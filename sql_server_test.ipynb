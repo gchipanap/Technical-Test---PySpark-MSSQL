{
 "cells": [
  {
   "cell_type": "code",
   "execution_count": 172,
   "metadata": {},
   "outputs": [],
   "source": [
    "!pip install -qq pyodbc "
   ]
  },
  {
   "cell_type": "code",
   "execution_count": 341,
   "metadata": {},
   "outputs": [],
   "source": [
    "from pyspark.sql.functions import col, count, when, to_timestamp,  regexp_replace, expr, concat, lit"
   ]
  },
  {
   "cell_type": "code",
   "execution_count": 174,
   "metadata": {},
   "outputs": [],
   "source": [
    "appName = \"pypspark\"\n",
    "serverName = \"localhost\""
   ]
  },
  {
   "cell_type": "code",
   "execution_count": 175,
   "metadata": {},
   "outputs": [],
   "source": [
    "driver = 'com.microsoft.sqlserver.jdbc.SQLServerDriver'\n",
    "jdbc_driver_path = r\"C:\\\\JDBC_sql_server\\\\sqljdbc_12.6\\\\enu\\\\mssql-jdbc-12.6.3.jre8.jar\""
   ]
  },
  {
   "cell_type": "code",
   "execution_count": 176,
   "metadata": {},
   "outputs": [],
   "source": [
    "from pyspark.sql import SparkSession\n",
    "\n",
    "try:\n",
    "    spark = SparkSession.builder \\\n",
    "        .appName(appName) \\\n",
    "        .config(\"spark.jars\", jdbc_driver_path) \\\n",
    "        .getOrCreate()\n",
    "except Exception as e:\n",
    "    print(e)"
   ]
  },
  {
   "cell_type": "code",
   "execution_count": 177,
   "metadata": {},
   "outputs": [
    {
     "name": "stdout",
     "output_type": "stream",
     "text": [
      "+------+--------------+----------------+-------------+--------------+\n",
      "|pedido|nombre_cliente|apellido_cliente|estado_pedido|fecha_registro|\n",
      "+------+--------------+----------------+-------------+--------------+\n",
      "|     1|       Blondie|         McGauhy|        false|     4/02/2023|\n",
      "|     2|        Sherye|           Pilch|        false|    27/06/2023|\n",
      "|     3|        Julius|  Chinge de Hals|        false|     7/02/2023|\n",
      "|     4|         Lanni|         Wegenen|         true|    20/08/2023|\n",
      "|     5|         Betty|          Klimus|         true|    26/08/2023|\n",
      "+------+--------------+----------------+-------------+--------------+\n",
      "only showing top 5 rows\n",
      "\n",
      "+------+--------------+----------------+-------------+--------------+\n",
      "|pedido|nombre_cliente|apellido_cliente|estado_pedido|fecha_registro|\n",
      "+------+--------------+----------------+-------------+--------------+\n",
      "|  1001|        Blinny|        Scollick|        false|     5/04/2024|\n",
      "|  1002|         Corri|            Lude|        false|     9/06/2023|\n",
      "|  1003|         Miran|      Lindenfeld|        false|     5/08/2023|\n",
      "|  1004|         Erwin|          Caskie|         true|    19/01/2023|\n",
      "|  1005|        Jemmie|         Cameron|         true|    10/03/2024|\n",
      "+------+--------------+----------------+-------------+--------------+\n",
      "only showing top 5 rows\n",
      "\n"
     ]
    }
   ],
   "source": [
    "csv1 = \"data_1.csv\"\n",
    "csv2 = \"data_2.csv\"\n",
    "\n",
    "df1 = spark.read.format(\"csv\") \\\n",
    "    .option(\"header\", \"true\") \\\n",
    "    .option(\"sep\", \";\") \\\n",
    "    .load(csv1)\n",
    "\n",
    "df2 = spark.read.format(\"csv\") \\\n",
    "    .option(\"header\", \"true\") \\\n",
    "    .option(\"sep\", \";\") \\\n",
    "    .load(csv2)\n",
    "\n",
    "df1.show(5)\n",
    "df2.show(5)"
   ]
  },
  {
   "cell_type": "code",
   "execution_count": 178,
   "metadata": {},
   "outputs": [
    {
     "data": {
      "text/plain": [
       "1000"
      ]
     },
     "execution_count": 178,
     "metadata": {},
     "output_type": "execute_result"
    }
   ],
   "source": [
    "df1.count()"
   ]
  },
  {
   "cell_type": "code",
   "execution_count": 179,
   "metadata": {},
   "outputs": [
    {
     "name": "stdout",
     "output_type": "stream",
     "text": [
      "+-------------------------------------------------+--------------+----------------+-------------+--------------+\n",
      "|count(CASE WHEN (pedido IS NULL) THEN pedido END)|nombre_cliente|apellido_cliente|estado_pedido|fecha_registro|\n",
      "+-------------------------------------------------+--------------+----------------+-------------+--------------+\n",
      "|                                                0|             0|               0|            0|             0|\n",
      "+-------------------------------------------------+--------------+----------------+-------------+--------------+\n",
      "\n"
     ]
    }
   ],
   "source": [
    "null_counts = df1.select(count(when(col(\"pedido\").isNull(), \"pedido\")),\n",
    "                         count(when(col(\"nombre_cliente\").isNull(), \"nombre_cliente\")).alias(\"nombre_cliente\"),\n",
    "                         count(when(col(\"apellido_cliente\").isNull(), \"apellido_cliente\")).alias(\"apellido_cliente\"),\n",
    "                         count(when(col(\"estado_pedido\").isNull(), \"estado_pedido\")).alias(\"estado_pedido\"),\n",
    "                         count(when(col(\"fecha_registro\").isNull(), \"fecha_registro\")).alias(\"fecha_registro\"))\n",
    "null_counts.show()\n",
    "\n",
    "results = null_counts.collect()"
   ]
  },
  {
   "cell_type": "code",
   "execution_count": 180,
   "metadata": {},
   "outputs": [
    {
     "data": {
      "text/plain": [
       "['pedido',\n",
       " 'nombre_cliente',\n",
       " 'apellido_cliente',\n",
       " 'estado_pedido',\n",
       " 'fecha_registro']"
      ]
     },
     "execution_count": 180,
     "metadata": {},
     "output_type": "execute_result"
    }
   ],
   "source": [
    "df1.columns"
   ]
  },
  {
   "cell_type": "code",
   "execution_count": 181,
   "metadata": {},
   "outputs": [
    {
     "name": "stdout",
     "output_type": "stream",
     "text": [
      "+------+--------------+----------------+-------------+--------------+\n",
      "|pedido|nombre_cliente|apellido_cliente|estado_pedido|fecha_registro|\n",
      "+------+--------------+----------------+-------------+--------------+\n",
      "|     0|             0|               0|            0|             0|\n",
      "+------+--------------+----------------+-------------+--------------+\n",
      "\n"
     ]
    }
   ],
   "source": [
    "null_counts = df1.select([count(when(col(c).isNull(), c)).alias(c) for c in df1.columns])\n",
    "null_counts.show()"
   ]
  },
  {
   "cell_type": "code",
   "execution_count": 242,
   "metadata": {},
   "outputs": [],
   "source": [
    "#Verificar que las filas cumplan con el formato para DateTime_Field dd-MM-yyyy\n",
    "pattern = r'^\\d{2}/\\d{2}/\\d{4}$'"
   ]
  },
  {
   "cell_type": "code",
   "execution_count": 243,
   "metadata": {},
   "outputs": [
    {
     "name": "stdout",
     "output_type": "stream",
     "text": [
      "+------+--------------+----------------+-------------+--------------+\n",
      "|pedido|nombre_cliente|apellido_cliente|estado_pedido|fecha_registro|\n",
      "+------+--------------+----------------+-------------+--------------+\n",
      "|2     |Sherye        |Pilch           |false        |27/06/2023    |\n",
      "|4     |Lanni         |Wegenen         |true         |20/08/2023    |\n",
      "|5     |Betty         |Klimus          |true         |26/08/2023    |\n",
      "|6     |Ibbie         |Chowne          |false        |24/03/2023    |\n",
      "|7     |Sonny         |Paddon          |false        |25/02/2024    |\n",
      "+------+--------------+----------------+-------------+--------------+\n",
      "only showing top 5 rows\n",
      "\n",
      "716\n"
     ]
    }
   ],
   "source": [
    "filtered_df = df1.filter(col(\"fecha_registro\").rlike(pattern))\n",
    "\n",
    "filtered_df.show(5, truncate=False)\n",
    "print(filtered_df.count())"
   ]
  },
  {
   "cell_type": "code",
   "execution_count": 245,
   "metadata": {},
   "outputs": [
    {
     "name": "stdout",
     "output_type": "stream",
     "text": [
      "+------+--------------+----------------+-------------+--------------+\n",
      "|pedido|nombre_cliente|apellido_cliente|estado_pedido|fecha_registro|\n",
      "+------+--------------+----------------+-------------+--------------+\n",
      "|     1|       Blondie|         McGauhy|        false|     4/02/2023|\n",
      "|     3|        Julius|  Chinge de Hals|        false|     7/02/2023|\n",
      "|     8|       Marcile|        Hurdedge|        false|     8/09/2023|\n",
      "|    12|          Addi|        Bernardi|         true|     6/06/2024|\n",
      "|    16|          Hube|           Slide|         true|     3/06/2023|\n",
      "+------+--------------+----------------+-------------+--------------+\n",
      "only showing top 5 rows\n",
      "\n",
      "284\n"
     ]
    }
   ],
   "source": [
    "non_filtered_df = df1.filter(~col(\"fecha_registro\").rlike(pattern))\n",
    "non_filtered_df.show(5)\n",
    "print(non_filtered_df.count())"
   ]
  },
  {
   "cell_type": "code",
   "execution_count": null,
   "metadata": {},
   "outputs": [],
   "source": [
    "#Corregir fechas"
   ]
  },
  {
   "cell_type": "code",
   "execution_count": 351,
   "metadata": {},
   "outputs": [
    {
     "name": "stdout",
     "output_type": "stream",
     "text": [
      "0\n"
     ]
    }
   ],
   "source": [
    "df_correct_date = df1.withColumn(\n",
    "    \"fecha_registro\",\n",
    "    when(\n",
    "        col(\"fecha_registro\").rlike(r'^\\d{1}/\\d{2}/\\d{4}$'),\n",
    "        regexp_replace(col(\"fecha_registro\"), r'^(\\d{1})/(\\d{2}/\\d{4})$', concat(lit(\"0\"),col(\"fecha_registro\")))\n",
    "    ).otherwise(col(\"fecha_registro\"))\n",
    ")\n",
    "\n",
    "non_filtered_df = df_correct_date.filter(~col(\"fecha_registro\").rlike(pattern))\n",
    "print(non_filtered_df.count())\n"
   ]
  },
  {
   "cell_type": "code",
   "execution_count": 353,
   "metadata": {},
   "outputs": [
    {
     "name": "stdout",
     "output_type": "stream",
     "text": [
      "+-------------------+\n",
      "|estado_pedido_count|\n",
      "+-------------------+\n",
      "|                 18|\n",
      "+-------------------+\n",
      "\n",
      "[Row(estado_pedido_count=18)]\n",
      "Column<'estado_pedido_count[estado_pedido_count]'>\n"
     ]
    }
   ],
   "source": [
    "estado_pedido_count = df_correct_date.select(\n",
    "    count(when(~((col(\"estado_pedido\") == \"true\") | (col(\"estado_pedido\") == \"false\")), \"estado_pedido\")).alias(\"estado_pedido_count\")\n",
    ")\n",
    "\n",
    "collect_estado_pedido_count = estado_pedido_count.collect()\n",
    "estado_pedido_count.show()\n",
    "\n",
    "print(collect_estado_pedido_count)\n",
    "print(estado_pedido_count[0][\"estado_pedido_count\"])"
   ]
  },
  {
   "cell_type": "code",
   "execution_count": 359,
   "metadata": {},
   "outputs": [
    {
     "name": "stdout",
     "output_type": "stream",
     "text": [
      "+------+--------------+----------------+-------------+--------------+\n",
      "|pedido|nombre_cliente|apellido_cliente|estado_pedido|fecha_registro|\n",
      "+------+--------------+----------------+-------------+--------------+\n",
      "|    36|      Beverley|          Newiss|        talse|    15/04/2023|\n",
      "|    75|        Julian|          Lordon|        tru e|    07/07/2023|\n",
      "|   294|       Jermain|        Steffens|        truue|    19/09/2023|\n",
      "|   410|        Karoly|       Lovegrove|        true_|    23/06/2024|\n",
      "|   441|         Raoul|          Barter|  false      |    17/03/2024|\n",
      "|   445|     Millisent|         Dickons|        false|    22/04/2023|\n",
      "|   463|         Lorne|         Heatlie|         true|    02/04/2023|\n",
      "|   481|       Joshuah|        Cottrell|       true  |    09/03/2024|\n",
      "|   498|         Daune|             Gye|       true  |    16/06/2023|\n",
      "|   521|         Gavan|          Gaggen|       trueke|    12/05/2023|\n",
      "|   677|      Jessalyn|       McGifford|        trrue|    20/12/2023|\n",
      "|   873|          Joly|        Chrismas|        truee|    18/10/2023|\n",
      "|   901|          Alec|          McVity|       falsee|    07/06/2023|\n",
      "|   947|             L|          urette|         teko|    26/03/2024|\n",
      "|   956|         Amber|       Clayworth|         tiko|    17/03/2023|\n",
      "|   973|       Rodrick|         Boynton|         toke|    17/09/2023|\n",
      "|   980|       Rozella|          Stempe|        falso|    29/08/2023|\n",
      "|   991|        Enrico|       Priestner|        fals0|    07/10/2023|\n",
      "+------+--------------+----------------+-------------+--------------+\n",
      "\n"
     ]
    }
   ],
   "source": [
    "df_estado_pedido_not_bool = df_correct_date.filter(~(col(\"estado_pedido\") == \"true\") & ~(col(\"estado_pedido\") == \"false\"))\n",
    "df_estado_pedido_not_bool.show()"
   ]
  },
  {
   "cell_type": "code",
   "execution_count": 360,
   "metadata": {},
   "outputs": [
    {
     "name": "stdout",
     "output_type": "stream",
     "text": [
      "+------+--------------+----------------+-------------+--------------+\n",
      "|pedido|nombre_cliente|apellido_cliente|estado_pedido|fecha_registro|\n",
      "+------+--------------+----------------+-------------+--------------+\n",
      "|     1|       Blondie|         McGauhy|        false|    04/02/2023|\n",
      "|     2|        Sherye|           Pilch|        false|    27/06/2023|\n",
      "|     3|        Julius|  Chinge de Hals|        false|    07/02/2023|\n",
      "|     4|         Lanni|         Wegenen|         true|    20/08/2023|\n",
      "|     5|         Betty|          Klimus|         true|    26/08/2023|\n",
      "|     6|         Ibbie|          Chowne|        false|    24/03/2023|\n",
      "|     7|         Sonny|          Paddon|        false|    25/02/2024|\n",
      "|     8|       Marcile|        Hurdedge|        false|    08/09/2023|\n",
      "|     9|      Flemming|          Middas|         true|    20/04/2023|\n",
      "|    10|          Jule|          Vivers|         true|    10/05/2023|\n",
      "|    11|       Shaughn|         Canario|         true|    27/10/2023|\n",
      "|    12|          Addi|        Bernardi|         true|    06/06/2024|\n",
      "|    13|          Esma|        Hanscomb|         true|    11/03/2023|\n",
      "|    14|       Iolande|         Crummay|         true|    19/09/2023|\n",
      "|    15|         Eliot|      Giorgielli|        false|    26/02/2023|\n",
      "|    16|          Hube|           Slide|         true|    03/06/2023|\n",
      "|    17|       Ranique|         Bondley|         true|    11/01/2024|\n",
      "|    18|       Tirrell|      Matthessen|        false|    12/09/2023|\n",
      "|    19|        Ermina|             Pym|         true|    29/01/2023|\n",
      "|    20|         Kenny|          Chatin|        false|    20/06/2023|\n",
      "+------+--------------+----------------+-------------+--------------+\n",
      "only showing top 20 rows\n",
      "\n"
     ]
    }
   ],
   "source": [
    "df1_transformed_no_bool = df_correct_date.withColumn(\n",
    "    \"estado_pedido\",\n",
    "    when(col(\"estado_pedido\").startswith(\"t\"), \"true\")\n",
    "    .when(col(\"estado_pedido\").startswith(\"f\"), \"false\")\n",
    "    .otherwise(\"false\")\n",
    ")\n",
    "\n",
    "df1_transformed_no_bool.show()\n"
   ]
  },
  {
   "cell_type": "code",
   "execution_count": 362,
   "metadata": {},
   "outputs": [
    {
     "name": "stdout",
     "output_type": "stream",
     "text": [
      "0\n"
     ]
    }
   ],
   "source": [
    "estado_pedido_count = df1_transformed_no_bool.select(\n",
    "    count(when(~((col(\"estado_pedido\") == \"true\") | (col(\"estado_pedido\") == \"false\")), \"estado_pedido\")).alias(\"estado_pedido_count\")\n",
    ").collect()\n",
    "\n",
    "print(estado_pedido_count[0][\"estado_pedido_count\"])"
   ]
  },
  {
   "cell_type": "code",
   "execution_count": 364,
   "metadata": {},
   "outputs": [
    {
     "name": "stdout",
     "output_type": "stream",
     "text": [
      "0\n"
     ]
    }
   ],
   "source": [
    "nombre_cliente_null_count = results[0][\"nombre_cliente\"]\n",
    "print(nombre_cliente_null_count)"
   ]
  },
  {
   "cell_type": "code",
   "execution_count": 381,
   "metadata": {},
   "outputs": [
    {
     "name": "stdout",
     "output_type": "stream",
     "text": [
      "root\n",
      " |-- pedido: string (nullable = true)\n",
      " |-- nombre_cliente: string (nullable = true)\n",
      " |-- apellido_cliente: string (nullable = true)\n",
      " |-- estado_pedido: string (nullable = false)\n",
      " |-- fecha_registro: string (nullable = true)\n",
      "\n"
     ]
    }
   ],
   "source": [
    "df1_transformed_no_bool.printSchema()"
   ]
  },
  {
   "cell_type": "code",
   "execution_count": 400,
   "metadata": {},
   "outputs": [
    {
     "name": "stdout",
     "output_type": "stream",
     "text": [
      "+------+--------------+----------------+-------------+--------------+\n",
      "|pedido|nombre_cliente|apellido_cliente|estado_pedido|fecha_registro|\n",
      "+------+--------------+----------------+-------------+--------------+\n",
      "|     1|       Blondie|         McGauhy|        false|    04/02/2023|\n",
      "|     2|        Sherye|           Pilch|        false|    27/06/2023|\n",
      "|     3|        Julius|  Chinge de Hals|        false|    07/02/2023|\n",
      "|     4|         Lanni|         Wegenen|         true|    20/08/2023|\n",
      "|     5|         Betty|          Klimus|         true|    26/08/2023|\n",
      "|     6|         Ibbie|          Chowne|        false|    24/03/2023|\n",
      "|     7|         Sonny|          Paddon|        false|    25/02/2024|\n",
      "|     8|       Marcile|        Hurdedge|        false|    08/09/2023|\n",
      "|     9|      Flemming|          Middas|         true|    20/04/2023|\n",
      "|    10|          Jule|          Vivers|         true|    10/05/2023|\n",
      "+------+--------------+----------------+-------------+--------------+\n",
      "only showing top 10 rows\n",
      "\n"
     ]
    }
   ],
   "source": [
    "df1_transformed_no_bool.show(10)"
   ]
  },
  {
   "cell_type": "code",
   "execution_count": 402,
   "metadata": {},
   "outputs": [
    {
     "name": "stdout",
     "output_type": "stream",
     "text": [
      "root\n",
      " |-- pedido: integer (nullable = true)\n",
      " |-- nombre_cliente: string (nullable = true)\n",
      " |-- apellido_cliente: string (nullable = true)\n",
      " |-- estado_pedido: boolean (nullable = true)\n",
      " |-- fecha_registro: timestamp (nullable = true)\n",
      "\n"
     ]
    }
   ],
   "source": [
    "df1_converted = df1_transformed_no_bool.select(\n",
    "    col(\"pedido\").cast(\"integer\"),\n",
    "    col(\"nombre_cliente\").cast(\"string\"),\n",
    "    col(\"apellido_cliente\").cast(\"string\"),\n",
    "    col(\"estado_pedido\").cast(\"boolean\"),\n",
    "    to_timestamp(col(\"fecha_registro\"), \"dd/MM/yyyy\").alias(\"fecha_registro\")\n",
    ")\n",
    "\n",
    "df1_converted.printSchema()"
   ]
  },
  {
   "cell_type": "code",
   "execution_count": 408,
   "metadata": {},
   "outputs": [
    {
     "name": "stdout",
     "output_type": "stream",
     "text": [
      "+------+--------------+----------------+-------------+-------------------+\n",
      "|pedido|nombre_cliente|apellido_cliente|estado_pedido|     fecha_registro|\n",
      "+------+--------------+----------------+-------------+-------------------+\n",
      "|     1|       Blondie|         McGauhy|        false|2023-02-04 00:00:00|\n",
      "|     2|        Sherye|           Pilch|        false|2023-06-27 00:00:00|\n",
      "|     3|        Julius|  Chinge de Hals|        false|2023-02-07 00:00:00|\n",
      "|     4|         Lanni|         Wegenen|         true|2023-08-20 00:00:00|\n",
      "|     5|         Betty|          Klimus|         true|2023-08-26 00:00:00|\n",
      "|     6|         Ibbie|          Chowne|        false|2023-03-24 00:00:00|\n",
      "|     7|         Sonny|          Paddon|        false|2024-02-25 00:00:00|\n",
      "|     8|       Marcile|        Hurdedge|        false|2023-09-08 00:00:00|\n",
      "|     9|      Flemming|          Middas|         true|2023-04-20 00:00:00|\n",
      "|    10|          Jule|          Vivers|         true|2023-05-10 00:00:00|\n",
      "|    11|       Shaughn|         Canario|         true|2023-10-27 00:00:00|\n",
      "|    12|          Addi|        Bernardi|         true|2024-06-06 00:00:00|\n",
      "|    13|          Esma|        Hanscomb|         true|2023-03-11 00:00:00|\n",
      "|    14|       Iolande|         Crummay|         true|2023-09-19 00:00:00|\n",
      "|    15|         Eliot|      Giorgielli|        false|2023-02-26 00:00:00|\n",
      "|    16|          Hube|           Slide|         true|2023-06-03 00:00:00|\n",
      "|    17|       Ranique|         Bondley|         true|2024-01-11 00:00:00|\n",
      "|    18|       Tirrell|      Matthessen|        false|2023-09-12 00:00:00|\n",
      "|    19|        Ermina|             Pym|         true|2023-01-29 00:00:00|\n",
      "|    20|         Kenny|          Chatin|        false|2023-06-20 00:00:00|\n",
      "+------+--------------+----------------+-------------+-------------------+\n",
      "only showing top 20 rows\n",
      "\n"
     ]
    }
   ],
   "source": [
    "df1_converted.show(20)"
   ]
  },
  {
   "cell_type": "markdown",
   "metadata": {},
   "source": [
    "## Crear tabla para guardar el df"
   ]
  },
  {
   "cell_type": "code",
   "execution_count": 412,
   "metadata": {},
   "outputs": [],
   "source": [
    "import pyodbc\n",
    "conn  = pyodbc.connect( 'Driver={SQL Server};'\n",
    "                        'Server=localhost;'\n",
    "                        'Trusted_Connection=yes;'\n",
    "                        'autocommit=True;')\n",
    "\n",
    "cursor = conn.cursor()"
   ]
  },
  {
   "cell_type": "code",
   "execution_count": 413,
   "metadata": {},
   "outputs": [],
   "source": [
    "create_database_query = '''\n",
    "IF NOT EXISTS (SELECT * FROM sys.databases WHERE name = 'PySpark_MSSQL')\n",
    "BEGIN\n",
    "    CREATE DATABASE [PySpark_MSSQL]\n",
    "END\n",
    "'''\n",
    "\n",
    "use_database_query = '''\n",
    "USE [PySpark_MSSQL]\n",
    "'''\n",
    "\n",
    "create_table_query = '''\n",
    "IF NOT EXISTS (SELECT * FROM sysobjects WHERE name='test' AND xtype='U')\n",
    "    BEGIN\n",
    "        CREATE TABLE pedidos (\n",
    "            pedido INTEGER NULL,\n",
    "            nombre_cliente NVARCHAR(255) NULL,\n",
    "            apellido_cliente NVARCHAR(255) NULL,\n",
    "            estado_pedido BIT NULL,\n",
    "            fecha_registro DATETIME NULL\n",
    "        )\n",
    "    END\n",
    "'''"
   ]
  },
  {
   "cell_type": "code",
   "execution_count": 414,
   "metadata": {},
   "outputs": [],
   "source": [
    "try:\n",
    "    cursor.execute(create_database_query)\n",
    "    conn.commit()\n",
    "\n",
    "    cursor.execute(use_database_query)\n",
    "    conn.commit()\n",
    "\n",
    "    cursor.execute(create_table_query)\n",
    "    conn.commit()\n",
    "\n",
    "except pyodbc.Error as e:\n",
    "    print(e)\n",
    "\n",
    "conn.close()"
   ]
  },
  {
   "cell_type": "code",
   "execution_count": 415,
   "metadata": {},
   "outputs": [],
   "source": [
    "db_name = \"PySpark_MSSQL\"\n",
    "table = \"pedidos\"\n",
    "url = f\"jdbc:sqlserver://{serverName}:1433;DatabaseName={db_name};integratedSecurity=true;trustServerCertificate=true;\"\n"
   ]
  },
  {
   "cell_type": "code",
   "execution_count": 416,
   "metadata": {},
   "outputs": [],
   "source": [
    "try:\n",
    "    df1_converted.write \\\n",
    "        .format(\"jdbc\") \\\n",
    "        .option(\"url\", url) \\\n",
    "        .option(\"dbtable\", table) \\\n",
    "        .option(\"driver\", driver) \\\n",
    "        .mode(\"append\") \\\n",
    "        .save()\n",
    "\n",
    "except Exception as e:\n",
    "    print(e)"
   ]
  },
  {
   "cell_type": "code",
   "execution_count": 417,
   "metadata": {},
   "outputs": [],
   "source": [
    "#Leer la data\n",
    "query = '''\n",
    "SELECT * FROM pedidos\n",
    "'''"
   ]
  },
  {
   "cell_type": "code",
   "execution_count": 418,
   "metadata": {},
   "outputs": [
    {
     "name": "stdout",
     "output_type": "stream",
     "text": [
      "+------+--------------+----------------+-------------+-------------------+\n",
      "|pedido|nombre_cliente|apellido_cliente|estado_pedido|     fecha_registro|\n",
      "+------+--------------+----------------+-------------+-------------------+\n",
      "|     1|       Blondie|         McGauhy|        false|2023-02-04 00:00:00|\n",
      "|     2|        Sherye|           Pilch|        false|2023-06-27 00:00:00|\n",
      "|     3|        Julius|  Chinge de Hals|        false|2023-02-07 00:00:00|\n",
      "|     4|         Lanni|         Wegenen|         true|2023-08-20 00:00:00|\n",
      "|     5|         Betty|          Klimus|         true|2023-08-26 00:00:00|\n",
      "|     6|         Ibbie|          Chowne|        false|2023-03-24 00:00:00|\n",
      "|     7|         Sonny|          Paddon|        false|2024-02-25 00:00:00|\n",
      "|     8|       Marcile|        Hurdedge|        false|2023-09-08 00:00:00|\n",
      "|     9|      Flemming|          Middas|         true|2023-04-20 00:00:00|\n",
      "|    10|          Jule|          Vivers|         true|2023-05-10 00:00:00|\n",
      "+------+--------------+----------------+-------------+-------------------+\n",
      "only showing top 10 rows\n",
      "\n"
     ]
    }
   ],
   "source": [
    "try:\n",
    "    df_final = spark.read.format(\"jdbc\") \\\n",
    "        .option(\"url\", url) \\\n",
    "        .option(\"query\", query) \\\n",
    "        .option(\"driver\", driver) \\\n",
    "        .load()\n",
    "\n",
    "    df_final.show(10)\n",
    "except Exception as e:\n",
    "    print(e)"
   ]
  }
 ],
 "metadata": {
  "kernelspec": {
   "display_name": "Python 3",
   "language": "python",
   "name": "python3"
  },
  "language_info": {
   "codemirror_mode": {
    "name": "ipython",
    "version": 3
   },
   "file_extension": ".py",
   "mimetype": "text/x-python",
   "name": "python",
   "nbconvert_exporter": "python",
   "pygments_lexer": "ipython3",
   "version": "3.11.9"
  }
 },
 "nbformat": 4,
 "nbformat_minor": 2
}
